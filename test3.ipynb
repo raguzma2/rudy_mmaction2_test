{
 "cells": [
  {
   "cell_type": "code",
   "id": "initial_id",
   "metadata": {
    "collapsed": true
   },
   "source": [
    "import numpy as np\n",
    "\n",
    "print(\"Hello, World!\")"
   ],
   "outputs": [],
   "execution_count": null
  },
  {
   "metadata": {},
   "cell_type": "markdown",
   "source": "# Training for the I3D model",
   "id": "460bde038c057f95"
  },
  {
   "metadata": {},
   "cell_type": "code",
   "source": "!python \"C:\\\\Users\\\\rodol\\\\mmaction2\\\\tools\\\\train.py\" \"C:\\\\Users\\\\rodol\\\\mmaction2\\\\configs\\\\recognition\\\\i3d\\\\i3d_imagenet-pretrained-r50_8xb8-32x2x1-100e_kinetics400-rgb.py\" --work-dir \"C:\\\\Users\\\\rodol\\\\Desktop\\\\model_training_test\"",
   "id": "2a610a24c0d9179e",
   "outputs": [],
   "execution_count": null
  },
  {
   "metadata": {},
   "cell_type": "markdown",
   "source": "# Training for the TIN model",
   "id": "5459c513af8ca4e0"
  },
  {
   "metadata": {},
   "cell_type": "code",
   "source": [
    "# for tin\n",
    "!python \"C:\\\\Users\\\\rodol\\\\mmaction2\\\\tools\\\\train.py\" \"C:\\\\Users\\\\rodol\\\\mmaction2\\\\configs\\\\recognition\\\\tin\\\\tin_kinetics400-pretrained-tsm-r50_1x1x8-50e_kinetics400-rgb.py\" --work-dir \"C:\\\\Users\\\\rodol\\\\Desktop\\\\model_training_test\\\\tin_test\""
   ],
   "id": "51d6484ba2ce545b",
   "outputs": [],
   "execution_count": null
  },
  {
   "metadata": {},
   "cell_type": "markdown",
   "source": "# Train for the Slowfast model",
   "id": "fa357908ee4d1a31"
  },
  {
   "metadata": {},
   "cell_type": "code",
   "source": "!python \"C:\\\\Users\\\\rodol\\\\mmaction2\\\\tools\\\\train.py\" \"C:\\\\Users\\\\rodol\\\\mmaction2\\\\configs\\\\recognition\\\\slowfast\\\\slowfast_r50_8xb8-4x16x1-256e_kinetics400-rgb.py\" --work-dir \"C:\\\\Users\\\\rodol\\\\Desktop\\\\model_training_test\\\\slowfast_test\"",
   "id": "b9f383b091d69a08",
   "outputs": [],
   "execution_count": null
  },
  {
   "metadata": {},
   "cell_type": "code",
   "source": "",
   "id": "60744008591cd8c5",
   "outputs": [],
   "execution_count": null
  },
  {
   "metadata": {},
   "cell_type": "code",
   "source": "",
   "id": "469d703c653297c7",
   "outputs": [],
   "execution_count": null
  },
  {
   "metadata": {},
   "cell_type": "code",
   "source": "",
   "id": "5d72c3a4c4646ca0",
   "outputs": [],
   "execution_count": null
  },
  {
   "metadata": {},
   "cell_type": "markdown",
   "source": "",
   "id": "ca4821cb7d93f867"
  },
  {
   "metadata": {},
   "cell_type": "markdown",
   "source": "# Inference",
   "id": "cddbfae44d6e7e76"
  },
  {
   "metadata": {
    "ExecuteTime": {
     "end_time": "2024-09-20T03:46:53.008627Z",
     "start_time": "2024-09-20T03:46:52.991626Z"
    }
   },
   "cell_type": "code",
   "source": [
    "from mmaction.apis import inference_recognizer, init_recognizer\n",
    "\n",
    "def basic_salsa_step_most_voted_inference(config_path, checkpoint_path, img_path):\n",
    "    model = init_recognizer(config_path, checkpoint_path, device='cuda:0')\n",
    "    summary = []\n",
    "    class_tally_salsa_basic = 0\n",
    "    class_tally_non_salsa_basic = 0\n",
    "    for i in range(3):\n",
    "        result = inference_recognizer(model, img_path)\n",
    "        pred_scores = result.pred_score.tolist()\n",
    "        # get the index of the highest score\n",
    "        max_index = pred_scores.index(max(pred_scores))\n",
    "        label_list = [\"non_salsa_basic\", \"salsa_basic\"]\n",
    "        # get the label with the highest score\n",
    "        label = label_list[max_index]\n",
    "        summary.append({label: max(pred_scores)})\n",
    "        if label == \"salsa_basic\":\n",
    "            class_tally_salsa_basic += 1\n",
    "        else:\n",
    "            class_tally_non_salsa_basic += 1\n",
    "    class_tally_summary = {\"salsa_basic\": class_tally_salsa_basic, \"non_salsa_basic\": class_tally_non_salsa_basic}\n",
    "    # get class label that has the highest tally\n",
    "    if class_tally_summary[\"salsa_basic\"] > class_tally_summary[\"non_salsa_basic\"]:\n",
    "        print(\"final classification: salsa_basic\")\n",
    "    else:\n",
    "        print(\"final classification: non_salsa_basic\")\n",
    "    return class_tally_summary\n",
    "\n",
    "def basic_salsa_step_average_probability_for_inference(config_path, checkpoint_path, img_path):\n",
    "    model = init_recognizer(config_path, checkpoint_path, device='cuda:0')\n",
    "    summary = []\n",
    "    class_tally_salsa_basic = 0\n",
    "    class_tally_non_salsa_basic = 0\n",
    "    for i in range(3):\n",
    "        result = inference_recognizer(model, img_path)\n",
    "        pred_scores = result.pred_score.tolist()\n",
    "        max_index = pred_scores.index(max(pred_scores))\n",
    "        label_list = [\"non_salsa_basic\", \"salsa_basic\"]\n",
    "        label = label_list[max_index]\n",
    "        summary.append({label: max(pred_scores)})\n",
    "        if label == \"salsa_basic\":\n",
    "            class_tally_salsa_basic += 1\n",
    "        else:\n",
    "            class_tally_non_salsa_basic += 1\n",
    "   # for salsa_basic, get the average probability\n",
    "    salsa_basic_sum = 0\n",
    "    salsa_basic_count = 0\n",
    "    for i in summary:\n",
    "        if \"salsa_basic\" in i:\n",
    "            salsa_basic_sum += i[\"salsa_basic\"]\n",
    "            salsa_basic_count += 1\n",
    "    if salsa_basic_count == 0:\n",
    "        salsa_basic_average = np.nan\n",
    "    else:\n",
    "        salsa_basic_average = salsa_basic_sum / salsa_basic_count\n",
    "    # for non_salsa_basic, get the average probability\n",
    "    non_salsa_basic_sum = 0\n",
    "    non_salsa_basic_count = 0\n",
    "    for i in summary:\n",
    "        if \"non_salsa_basic\" in i:\n",
    "            non_salsa_basic_sum += i[\"non_salsa_basic\"]\n",
    "            non_salsa_basic_count += 1\n",
    "    if non_salsa_basic_count == 0:\n",
    "        non_salsa_basic_average = np.nan\n",
    "    else:\n",
    "        non_salsa_basic_average = non_salsa_basic_sum / non_salsa_basic_count\n",
    "    # get class label that has the highest average probability\n",
    "    summary = {\"salsa_basic\": salsa_basic_average, \"non_salsa_basic\": non_salsa_basic_average}\n",
    "    return summary"
   ],
   "id": "f7453f4c9fe09997",
   "outputs": [],
   "execution_count": 44
  },
  {
   "metadata": {},
   "cell_type": "code",
   "source": [
    "from mmaction.apis import inference_recognizer, init_recognizer\n",
    "\n",
    "config_path_tsn = r\"C:\\Users\\rodol\\mmaction2\\configs\\recognition\\tsn\\tsn_imagenet-pretrained-r50_8xb32-1x1x8-100e_kinetics400-rgb.py\"\n",
    "checkpoint_path_tsn = r\"C:\\Users\\rodol\\Desktop\\model_training_test\\tsn_test\\epoch_30.pth\"\n",
    "\n",
    "config_path_tin = r\"C:\\Users\\rodol\\mmaction2\\configs\\recognition\\tin\\tin_kinetics400-pretrained-tsm-r50_1x1x8-50e_kinetics400-rgb.py\"\n",
    "checkpoint_path_tin = r\"C:\\Users\\rodol\\Desktop\\model_training_test\\tin_test\\epoch_35.pth\"\n",
    "\n",
    "config_path_i3d = r\"C:\\Users\\rodol\\mmaction2\\configs\\recognition\\i3d\\i3d_imagenet-pretrained-r50_8xb8-32x2x1-100e_kinetics400-rgb.py\"\n",
    "checkpoint_path_i3d = r\"C:\\Users\\rodol\\Desktop\\model_training_test\\i3d_test\\epoch_10.pth\"\n",
    "\n",
    "config_path_slowfast = r\"C:\\Users\\rodol\\mmaction2\\configs\\recognition\\slowfast\\slowfast_r50_8xb8-4x16x1-256e_kinetics400-rgb.py\"\n",
    "checkpoint_path_slowfast = r\"C:\\Users\\rodol\\Desktop\\model_training_test\\slowfast_test\\epoch_256.pth\"\n"
   ],
   "id": "3f478eacc5ac3feb",
   "outputs": [],
   "execution_count": null
  },
  {
   "metadata": {},
   "cell_type": "code",
   "source": [
    "# salsa basic videos\n",
    "img_path_salsa_basic_1 = r\"C:\\Users\\rodol\\Downloads\\rudy_basic_step.mp4\"\n",
    "img_path_salsa_basic_2 = r\"C:\\Users\\rodol\\Desktop\\E2E_Animation\\mp4_videos\\myle_salsa_dance_right_1.mp4\"\n",
    "\n",
    "# non salsa basic videos\n",
    "img_path_non_salsa_basic_1 = r\"C:\\Users\\rodol\\Desktop\\E2E_Animation\\mp4_videos\\non_salsa_basic\\rando_move_1.mp4\"\n",
    "img_path_non_salsa_basic_2 = r\"C:\\Users\\rodol\\Desktop\\E2E_Animation\\mp4_videos\\rando_salsa_dance_right_3.mp4\"\n",
    "img_path_non_salsa_basic_3 = r\"C:\\Users\\rodol\\Desktop\\E2E_Animation\\mp4_videos\\non_salsa_basic\\rando_move_2.mp4\"\n",
    "img_path_non_salsa_basic_4 = r\"C:\\Users\\rodol\\Desktop\\E2E_Animation\\mp4_videos\\non_salsa_basic\\rando_move_4.mp4\"\n",
    "img_path_non_salsa_basic_5 = r\"C:\\Users\\rodol\\Downloads\\rudy_left_turn.mp4\"\n",
    "img_path_non_salsa_basic_6 = r\"C:\\Users\\rodol\\Downloads\\rudy_right_turn.mp4\""
   ],
   "id": "256134258e62dd70",
   "outputs": [],
   "execution_count": null
  },
  {
   "metadata": {
    "ExecuteTime": {
     "end_time": "2024-09-20T15:00:45.836379Z",
     "start_time": "2024-09-20T15:00:27.537960Z"
    }
   },
   "cell_type": "code",
   "source": [
    "tsn_most_voted_salsa_basic_1 = basic_salsa_step_most_voted_inference(config_path_tsn, checkpoint_path_tsn, img_path_salsa_basic_1)\n",
    "tsn_average_probability_salsa_basic_1 = basic_salsa_step_average_probability_for_inference(config_path_tsn, checkpoint_path_tsn, img_path_salsa_basic_1)\n",
    "tsn_most_voted_salsa_basic_2 = basic_salsa_step_most_voted_inference(config_path_tsn, checkpoint_path_tsn, img_path_salsa_basic_2)\n",
    "tsn_average_probability_salsa_basic_2 = basic_salsa_step_average_probability_for_inference(config_path_tsn, checkpoint_path_tsn, img_path_salsa_basic_2)\n",
    "\n",
    "tsn_most_voted_non_salsa_basic_1 = basic_salsa_step_most_voted_inference(config_path_tsn, checkpoint_path_tsn, img_path_non_salsa_basic_1)\n",
    "tsn_average_probability_non_salsa_basic_1 = basic_salsa_step_average_probability_for_inference(config_path_tsn, checkpoint_path_tsn, img_path_non_salsa_basic_1)\n",
    "\n",
    "tsn_most_voted_non_salsa_basic_2 = basic_salsa_step_most_voted_inference(config_path_tsn, checkpoint_path_tsn, img_path_non_salsa_basic_2)\n",
    "tsn_average_probability_non_salsa_basic_2 = basic_salsa_step_average_probability_for_inference(config_path_tsn, checkpoint_path_tsn, img_path_non_salsa_basic_2)\n",
    "\n",
    "tsn_most_voted_non_salsa_basic_3 = basic_salsa_step_most_voted_inference(config_path_tsn, checkpoint_path_tsn, img_path_non_salsa_basic_3)\n",
    "tsn_average_probability_non_salsa_basic_3 = basic_salsa_step_average_probability_for_inference(config_path_tsn, checkpoint_path_tsn, img_path_non_salsa_basic_3)\n",
    "\n",
    "tsn_most_voted_non_salsa_basic_4 = basic_salsa_step_most_voted_inference(config_path_tsn, checkpoint_path_tsn, img_path_non_salsa_basic_4)\n",
    "tsn_average_probability_non_salsa_basic_4 = basic_salsa_step_average_probability_for_inference(config_path_tsn, checkpoint_path_tsn, img_path_non_salsa_basic_4)\n",
    "\n",
    "tsn_most_voted_non_salsa_basic_5 = basic_salsa_step_most_voted_inference(config_path_tsn, checkpoint_path_tsn, img_path_non_salsa_basic_5)\n",
    "tsn_average_probability_non_salsa_basic_5 = basic_salsa_step_average_probability_for_inference(config_path_tsn, checkpoint_path_tsn, img_path_non_salsa_basic_5)\n",
    "\n",
    "tsn_most_voted_non_salsa_basic_6 = basic_salsa_step_most_voted_inference(config_path_tsn, checkpoint_path_tsn, img_path_non_salsa_basic_6)\n",
    "tsn_average_probability_non_salsa_basic_6 = basic_salsa_step_average_probability_for_inference(config_path_tsn, checkpoint_path_tsn, img_path_non_salsa_basic_6)"
   ],
   "id": "d7e4f0383e6789d1",
   "outputs": [
    {
     "name": "stdout",
     "output_type": "stream",
     "text": [
      "Loads checkpoint by local backend from path: C:\\Users\\rodol\\Desktop\\model_training_test\\tsn_test\\epoch_30.pth\n",
      "The model and loaded state dict do not match exactly\n",
      "\n",
      "unexpected key in source state_dict: backbone.conv.0.weight, backbone.conv.0.bias, backbone.conv.1.weight, backbone.conv.1.bias, backbone.conv.1.running_mean, backbone.conv.1.running_var, backbone.conv.1.num_batches_tracked, backbone.conv1.0.weight, backbone.conv1.0.bias, backbone.conv1.1.weight, backbone.conv1.1.bias, backbone.conv1.1.running_mean, backbone.conv1.1.running_var, backbone.conv1.1.num_batches_tracked, cls_head.fc.weight, cls_head.fc.bias\n",
      "\n",
      "missing keys in source state_dict: backbone.conv1.conv.weight, backbone.conv1.bn.weight, backbone.conv1.bn.bias, backbone.conv1.bn.running_mean, backbone.conv1.bn.running_var, backbone.layer1.0.conv1.conv.weight, backbone.layer1.0.conv1.bn.weight, backbone.layer1.0.conv1.bn.bias, backbone.layer1.0.conv1.bn.running_mean, backbone.layer1.0.conv1.bn.running_var, backbone.layer1.0.conv2.conv.weight, backbone.layer1.0.conv2.bn.weight, backbone.layer1.0.conv2.bn.bias, backbone.layer1.0.conv2.bn.running_mean, backbone.layer1.0.conv2.bn.running_var, backbone.layer1.0.conv3.conv.weight, backbone.layer1.0.conv3.bn.weight, backbone.layer1.0.conv3.bn.bias, backbone.layer1.0.conv3.bn.running_mean, backbone.layer1.0.conv3.bn.running_var, backbone.layer1.0.downsample.conv.weight, backbone.layer1.0.downsample.bn.weight, backbone.layer1.0.downsample.bn.bias, backbone.layer1.0.downsample.bn.running_mean, backbone.layer1.0.downsample.bn.running_var, backbone.layer1.1.conv1.conv.weight, backbone.layer1.1.conv1.bn.weight, backbone.layer1.1.conv1.bn.bias, backbone.layer1.1.conv1.bn.running_mean, backbone.layer1.1.conv1.bn.running_var, backbone.layer1.1.conv2.conv.weight, backbone.layer1.1.conv2.bn.weight, backbone.layer1.1.conv2.bn.bias, backbone.layer1.1.conv2.bn.running_mean, backbone.layer1.1.conv2.bn.running_var, backbone.layer1.1.conv3.conv.weight, backbone.layer1.1.conv3.bn.weight, backbone.layer1.1.conv3.bn.bias, backbone.layer1.1.conv3.bn.running_mean, backbone.layer1.1.conv3.bn.running_var, backbone.layer1.2.conv1.conv.weight, backbone.layer1.2.conv1.bn.weight, backbone.layer1.2.conv1.bn.bias, backbone.layer1.2.conv1.bn.running_mean, backbone.layer1.2.conv1.bn.running_var, backbone.layer1.2.conv2.conv.weight, backbone.layer1.2.conv2.bn.weight, backbone.layer1.2.conv2.bn.bias, backbone.layer1.2.conv2.bn.running_mean, backbone.layer1.2.conv2.bn.running_var, backbone.layer1.2.conv3.conv.weight, backbone.layer1.2.conv3.bn.weight, backbone.layer1.2.conv3.bn.bias, backbone.layer1.2.conv3.bn.running_mean, backbone.layer1.2.conv3.bn.running_var, backbone.layer2.0.conv1.conv.weight, backbone.layer2.0.conv1.bn.weight, backbone.layer2.0.conv1.bn.bias, backbone.layer2.0.conv1.bn.running_mean, backbone.layer2.0.conv1.bn.running_var, backbone.layer2.0.conv2.conv.weight, backbone.layer2.0.conv2.bn.weight, backbone.layer2.0.conv2.bn.bias, backbone.layer2.0.conv2.bn.running_mean, backbone.layer2.0.conv2.bn.running_var, backbone.layer2.0.conv3.conv.weight, backbone.layer2.0.conv3.bn.weight, backbone.layer2.0.conv3.bn.bias, backbone.layer2.0.conv3.bn.running_mean, backbone.layer2.0.conv3.bn.running_var, backbone.layer2.0.downsample.conv.weight, backbone.layer2.0.downsample.bn.weight, backbone.layer2.0.downsample.bn.bias, backbone.layer2.0.downsample.bn.running_mean, backbone.layer2.0.downsample.bn.running_var, backbone.layer2.1.conv1.conv.weight, backbone.layer2.1.conv1.bn.weight, backbone.layer2.1.conv1.bn.bias, backbone.layer2.1.conv1.bn.running_mean, backbone.layer2.1.conv1.bn.running_var, backbone.layer2.1.conv2.conv.weight, backbone.layer2.1.conv2.bn.weight, backbone.layer2.1.conv2.bn.bias, backbone.layer2.1.conv2.bn.running_mean, backbone.layer2.1.conv2.bn.running_var, backbone.layer2.1.conv3.conv.weight, backbone.layer2.1.conv3.bn.weight, backbone.layer2.1.conv3.bn.bias, backbone.layer2.1.conv3.bn.running_mean, backbone.layer2.1.conv3.bn.running_var, backbone.layer2.2.conv1.conv.weight, backbone.layer2.2.conv1.bn.weight, backbone.layer2.2.conv1.bn.bias, backbone.layer2.2.conv1.bn.running_mean, backbone.layer2.2.conv1.bn.running_var, backbone.layer2.2.conv2.conv.weight, backbone.layer2.2.conv2.bn.weight, backbone.layer2.2.conv2.bn.bias, backbone.layer2.2.conv2.bn.running_mean, backbone.layer2.2.conv2.bn.running_var, backbone.layer2.2.conv3.conv.weight, backbone.layer2.2.conv3.bn.weight, backbone.layer2.2.conv3.bn.bias, backbone.layer2.2.conv3.bn.running_mean, backbone.layer2.2.conv3.bn.running_var, backbone.layer2.3.conv1.conv.weight, backbone.layer2.3.conv1.bn.weight, backbone.layer2.3.conv1.bn.bias, backbone.layer2.3.conv1.bn.running_mean, backbone.layer2.3.conv1.bn.running_var, backbone.layer2.3.conv2.conv.weight, backbone.layer2.3.conv2.bn.weight, backbone.layer2.3.conv2.bn.bias, backbone.layer2.3.conv2.bn.running_mean, backbone.layer2.3.conv2.bn.running_var, backbone.layer2.3.conv3.conv.weight, backbone.layer2.3.conv3.bn.weight, backbone.layer2.3.conv3.bn.bias, backbone.layer2.3.conv3.bn.running_mean, backbone.layer2.3.conv3.bn.running_var, backbone.layer3.0.conv1.conv.weight, backbone.layer3.0.conv1.bn.weight, backbone.layer3.0.conv1.bn.bias, backbone.layer3.0.conv1.bn.running_mean, backbone.layer3.0.conv1.bn.running_var, backbone.layer3.0.conv2.conv.weight, backbone.layer3.0.conv2.bn.weight, backbone.layer3.0.conv2.bn.bias, backbone.layer3.0.conv2.bn.running_mean, backbone.layer3.0.conv2.bn.running_var, backbone.layer3.0.conv3.conv.weight, backbone.layer3.0.conv3.bn.weight, backbone.layer3.0.conv3.bn.bias, backbone.layer3.0.conv3.bn.running_mean, backbone.layer3.0.conv3.bn.running_var, backbone.layer3.0.downsample.conv.weight, backbone.layer3.0.downsample.bn.weight, backbone.layer3.0.downsample.bn.bias, backbone.layer3.0.downsample.bn.running_mean, backbone.layer3.0.downsample.bn.running_var, backbone.layer3.1.conv1.conv.weight, backbone.layer3.1.conv1.bn.weight, backbone.layer3.1.conv1.bn.bias, backbone.layer3.1.conv1.bn.running_mean, backbone.layer3.1.conv1.bn.running_var, backbone.layer3.1.conv2.conv.weight, backbone.layer3.1.conv2.bn.weight, backbone.layer3.1.conv2.bn.bias, backbone.layer3.1.conv2.bn.running_mean, backbone.layer3.1.conv2.bn.running_var, backbone.layer3.1.conv3.conv.weight, backbone.layer3.1.conv3.bn.weight, backbone.layer3.1.conv3.bn.bias, backbone.layer3.1.conv3.bn.running_mean, backbone.layer3.1.conv3.bn.running_var, backbone.layer3.2.conv1.conv.weight, backbone.layer3.2.conv1.bn.weight, backbone.layer3.2.conv1.bn.bias, backbone.layer3.2.conv1.bn.running_mean, backbone.layer3.2.conv1.bn.running_var, backbone.layer3.2.conv2.conv.weight, backbone.layer3.2.conv2.bn.weight, backbone.layer3.2.conv2.bn.bias, backbone.layer3.2.conv2.bn.running_mean, backbone.layer3.2.conv2.bn.running_var, backbone.layer3.2.conv3.conv.weight, backbone.layer3.2.conv3.bn.weight, backbone.layer3.2.conv3.bn.bias, backbone.layer3.2.conv3.bn.running_mean, backbone.layer3.2.conv3.bn.running_var, backbone.layer3.3.conv1.conv.weight, backbone.layer3.3.conv1.bn.weight, backbone.layer3.3.conv1.bn.bias, backbone.layer3.3.conv1.bn.running_mean, backbone.layer3.3.conv1.bn.running_var, backbone.layer3.3.conv2.conv.weight, backbone.layer3.3.conv2.bn.weight, backbone.layer3.3.conv2.bn.bias, backbone.layer3.3.conv2.bn.running_mean, backbone.layer3.3.conv2.bn.running_var, backbone.layer3.3.conv3.conv.weight, backbone.layer3.3.conv3.bn.weight, backbone.layer3.3.conv3.bn.bias, backbone.layer3.3.conv3.bn.running_mean, backbone.layer3.3.conv3.bn.running_var, backbone.layer3.4.conv1.conv.weight, backbone.layer3.4.conv1.bn.weight, backbone.layer3.4.conv1.bn.bias, backbone.layer3.4.conv1.bn.running_mean, backbone.layer3.4.conv1.bn.running_var, backbone.layer3.4.conv2.conv.weight, backbone.layer3.4.conv2.bn.weight, backbone.layer3.4.conv2.bn.bias, backbone.layer3.4.conv2.bn.running_mean, backbone.layer3.4.conv2.bn.running_var, backbone.layer3.4.conv3.conv.weight, backbone.layer3.4.conv3.bn.weight, backbone.layer3.4.conv3.bn.bias, backbone.layer3.4.conv3.bn.running_mean, backbone.layer3.4.conv3.bn.running_var, backbone.layer3.5.conv1.conv.weight, backbone.layer3.5.conv1.bn.weight, backbone.layer3.5.conv1.bn.bias, backbone.layer3.5.conv1.bn.running_mean, backbone.layer3.5.conv1.bn.running_var, backbone.layer3.5.conv2.conv.weight, backbone.layer3.5.conv2.bn.weight, backbone.layer3.5.conv2.bn.bias, backbone.layer3.5.conv2.bn.running_mean, backbone.layer3.5.conv2.bn.running_var, backbone.layer3.5.conv3.conv.weight, backbone.layer3.5.conv3.bn.weight, backbone.layer3.5.conv3.bn.bias, backbone.layer3.5.conv3.bn.running_mean, backbone.layer3.5.conv3.bn.running_var, backbone.layer4.0.conv1.conv.weight, backbone.layer4.0.conv1.bn.weight, backbone.layer4.0.conv1.bn.bias, backbone.layer4.0.conv1.bn.running_mean, backbone.layer4.0.conv1.bn.running_var, backbone.layer4.0.conv2.conv.weight, backbone.layer4.0.conv2.bn.weight, backbone.layer4.0.conv2.bn.bias, backbone.layer4.0.conv2.bn.running_mean, backbone.layer4.0.conv2.bn.running_var, backbone.layer4.0.conv3.conv.weight, backbone.layer4.0.conv3.bn.weight, backbone.layer4.0.conv3.bn.bias, backbone.layer4.0.conv3.bn.running_mean, backbone.layer4.0.conv3.bn.running_var, backbone.layer4.0.downsample.conv.weight, backbone.layer4.0.downsample.bn.weight, backbone.layer4.0.downsample.bn.bias, backbone.layer4.0.downsample.bn.running_mean, backbone.layer4.0.downsample.bn.running_var, backbone.layer4.1.conv1.conv.weight, backbone.layer4.1.conv1.bn.weight, backbone.layer4.1.conv1.bn.bias, backbone.layer4.1.conv1.bn.running_mean, backbone.layer4.1.conv1.bn.running_var, backbone.layer4.1.conv2.conv.weight, backbone.layer4.1.conv2.bn.weight, backbone.layer4.1.conv2.bn.bias, backbone.layer4.1.conv2.bn.running_mean, backbone.layer4.1.conv2.bn.running_var, backbone.layer4.1.conv3.conv.weight, backbone.layer4.1.conv3.bn.weight, backbone.layer4.1.conv3.bn.bias, backbone.layer4.1.conv3.bn.running_mean, backbone.layer4.1.conv3.bn.running_var, backbone.layer4.2.conv1.conv.weight, backbone.layer4.2.conv1.bn.weight, backbone.layer4.2.conv1.bn.bias, backbone.layer4.2.conv1.bn.running_mean, backbone.layer4.2.conv1.bn.running_var, backbone.layer4.2.conv2.conv.weight, backbone.layer4.2.conv2.bn.weight, backbone.layer4.2.conv2.bn.bias, backbone.layer4.2.conv2.bn.running_mean, backbone.layer4.2.conv2.bn.running_var, backbone.layer4.2.conv3.conv.weight, backbone.layer4.2.conv3.bn.weight, backbone.layer4.2.conv3.bn.bias, backbone.layer4.2.conv3.bn.running_mean, backbone.layer4.2.conv3.bn.running_var, cls_head.fc_cls.weight, cls_head.fc_cls.bias\n",
      "\n",
      "final classification: salsa_basic\n"
     ]
    },
    {
     "ename": "KeyboardInterrupt",
     "evalue": "",
     "output_type": "error",
     "traceback": [
      "\u001B[1;31m---------------------------------------------------------------------------\u001B[0m",
      "\u001B[1;31mKeyboardInterrupt\u001B[0m                         Traceback (most recent call last)",
      "Cell \u001B[1;32mIn[61], line 2\u001B[0m\n\u001B[0;32m      1\u001B[0m tsn_most_voted_salsa_basic_1 \u001B[38;5;241m=\u001B[39m basic_salsa_step_most_voted_inference(config_path_tsn, checkpoint_path_tsn, img_path_salsa_basic_1)\n\u001B[1;32m----> 2\u001B[0m tsn_average_probability_salsa_basic_1 \u001B[38;5;241m=\u001B[39m \u001B[43mbasic_salsa_step_average_probability_for_inference\u001B[49m\u001B[43m(\u001B[49m\u001B[43mconfig_path_tsn\u001B[49m\u001B[43m,\u001B[49m\u001B[43m \u001B[49m\u001B[43mcheckpoint_path_tsn\u001B[49m\u001B[43m,\u001B[49m\u001B[43m \u001B[49m\u001B[43mimg_path_salsa_basic_1\u001B[49m\u001B[43m)\u001B[49m\n\u001B[0;32m      3\u001B[0m tsn_most_voted_salsa_basic_2 \u001B[38;5;241m=\u001B[39m basic_salsa_step_most_voted_inference(config_path_tsn, checkpoint_path_tsn, img_path_salsa_basic_2)\n\u001B[0;32m      4\u001B[0m tsn_average_probability_salsa_basic_2 \u001B[38;5;241m=\u001B[39m basic_salsa_step_average_probability_for_inference(config_path_tsn, checkpoint_path_tsn, img_path_salsa_basic_2)\n",
      "Cell \u001B[1;32mIn[44], line 30\u001B[0m, in \u001B[0;36mbasic_salsa_step_average_probability_for_inference\u001B[1;34m(config_path, checkpoint_path, img_path)\u001B[0m\n\u001B[0;32m     29\u001B[0m \u001B[38;5;28;01mdef\u001B[39;00m \u001B[38;5;21mbasic_salsa_step_average_probability_for_inference\u001B[39m(config_path, checkpoint_path, img_path):\n\u001B[1;32m---> 30\u001B[0m     model \u001B[38;5;241m=\u001B[39m \u001B[43minit_recognizer\u001B[49m\u001B[43m(\u001B[49m\u001B[43mconfig_path\u001B[49m\u001B[43m,\u001B[49m\u001B[43m \u001B[49m\u001B[43mcheckpoint_path\u001B[49m\u001B[43m,\u001B[49m\u001B[43m \u001B[49m\u001B[43mdevice\u001B[49m\u001B[38;5;241;43m=\u001B[39;49m\u001B[38;5;124;43m'\u001B[39;49m\u001B[38;5;124;43mcuda:0\u001B[39;49m\u001B[38;5;124;43m'\u001B[39;49m\u001B[43m)\u001B[49m\n\u001B[0;32m     31\u001B[0m     summary \u001B[38;5;241m=\u001B[39m []\n\u001B[0;32m     32\u001B[0m     class_tally_salsa_basic \u001B[38;5;241m=\u001B[39m \u001B[38;5;241m0\u001B[39m\n",
      "File \u001B[1;32mc:\\users\\rodol\\mmaction2\\mmaction\\apis\\inference.py:37\u001B[0m, in \u001B[0;36minit_recognizer\u001B[1;34m(config, checkpoint, device)\u001B[0m\n\u001B[0;32m     23\u001B[0m \u001B[38;5;250m\u001B[39m\u001B[38;5;124;03m\"\"\"Initialize a recognizer from config file.\u001B[39;00m\n\u001B[0;32m     24\u001B[0m \n\u001B[0;32m     25\u001B[0m \u001B[38;5;124;03mArgs:\u001B[39;00m\n\u001B[1;32m   (...)\u001B[0m\n\u001B[0;32m     34\u001B[0m \u001B[38;5;124;03m    nn.Module: The constructed recognizer.\u001B[39;00m\n\u001B[0;32m     35\u001B[0m \u001B[38;5;124;03m\"\"\"\u001B[39;00m\n\u001B[0;32m     36\u001B[0m \u001B[38;5;28;01mif\u001B[39;00m \u001B[38;5;28misinstance\u001B[39m(config, (\u001B[38;5;28mstr\u001B[39m, Path)):\n\u001B[1;32m---> 37\u001B[0m     config \u001B[38;5;241m=\u001B[39m \u001B[43mmmengine\u001B[49m\u001B[38;5;241;43m.\u001B[39;49m\u001B[43mConfig\u001B[49m\u001B[38;5;241;43m.\u001B[39;49m\u001B[43mfromfile\u001B[49m\u001B[43m(\u001B[49m\u001B[43mconfig\u001B[49m\u001B[43m)\u001B[49m\n\u001B[0;32m     38\u001B[0m \u001B[38;5;28;01melif\u001B[39;00m \u001B[38;5;129;01mnot\u001B[39;00m \u001B[38;5;28misinstance\u001B[39m(config, mmengine\u001B[38;5;241m.\u001B[39mConfig):\n\u001B[0;32m     39\u001B[0m     \u001B[38;5;28;01mraise\u001B[39;00m \u001B[38;5;167;01mTypeError\u001B[39;00m(\u001B[38;5;124m'\u001B[39m\u001B[38;5;124mconfig must be a filename or Config object, \u001B[39m\u001B[38;5;124m'\u001B[39m\n\u001B[0;32m     40\u001B[0m                     \u001B[38;5;124mf\u001B[39m\u001B[38;5;124m'\u001B[39m\u001B[38;5;124mbut got \u001B[39m\u001B[38;5;132;01m{\u001B[39;00m\u001B[38;5;28mtype\u001B[39m(config)\u001B[38;5;132;01m}\u001B[39;00m\u001B[38;5;124m'\u001B[39m)\n",
      "File \u001B[1;32mC:\\ProgramData\\anaconda3\\envs\\openmmlab_v04\\lib\\site-packages\\mmengine\\config\\config.py:461\u001B[0m, in \u001B[0;36mConfig.fromfile\u001B[1;34m(filename, use_predefined_variables, import_custom_modules, use_environment_variables, lazy_import, format_python_code)\u001B[0m\n\u001B[0;32m    458\u001B[0m filename \u001B[38;5;241m=\u001B[39m \u001B[38;5;28mstr\u001B[39m(filename) \u001B[38;5;28;01mif\u001B[39;00m \u001B[38;5;28misinstance\u001B[39m(filename, Path) \u001B[38;5;28;01melse\u001B[39;00m filename\n\u001B[0;32m    459\u001B[0m \u001B[38;5;28;01mif\u001B[39;00m lazy_import \u001B[38;5;129;01mis\u001B[39;00m \u001B[38;5;28;01mFalse\u001B[39;00m \u001B[38;5;129;01mor\u001B[39;00m \\\n\u001B[0;32m    460\u001B[0m    lazy_import \u001B[38;5;129;01mis\u001B[39;00m \u001B[38;5;28;01mNone\u001B[39;00m \u001B[38;5;129;01mand\u001B[39;00m \u001B[38;5;129;01mnot\u001B[39;00m Config\u001B[38;5;241m.\u001B[39m_is_lazy_import(filename):\n\u001B[1;32m--> 461\u001B[0m     cfg_dict, cfg_text, env_variables \u001B[38;5;241m=\u001B[39m \u001B[43mConfig\u001B[49m\u001B[38;5;241;43m.\u001B[39;49m\u001B[43m_file2dict\u001B[49m\u001B[43m(\u001B[49m\n\u001B[0;32m    462\u001B[0m \u001B[43m        \u001B[49m\u001B[43mfilename\u001B[49m\u001B[43m,\u001B[49m\u001B[43m \u001B[49m\u001B[43muse_predefined_variables\u001B[49m\u001B[43m,\u001B[49m\u001B[43m \u001B[49m\u001B[43muse_environment_variables\u001B[49m\u001B[43m,\u001B[49m\n\u001B[0;32m    463\u001B[0m \u001B[43m        \u001B[49m\u001B[43mlazy_import\u001B[49m\u001B[43m)\u001B[49m\n\u001B[0;32m    464\u001B[0m     \u001B[38;5;28;01mif\u001B[39;00m import_custom_modules \u001B[38;5;129;01mand\u001B[39;00m cfg_dict\u001B[38;5;241m.\u001B[39mget(\u001B[38;5;124m'\u001B[39m\u001B[38;5;124mcustom_imports\u001B[39m\u001B[38;5;124m'\u001B[39m, \u001B[38;5;28;01mNone\u001B[39;00m):\n\u001B[0;32m    465\u001B[0m         \u001B[38;5;28;01mtry\u001B[39;00m:\n",
      "File \u001B[1;32mC:\\ProgramData\\anaconda3\\envs\\openmmlab_v04\\lib\\site-packages\\mmengine\\config\\config.py:856\u001B[0m, in \u001B[0;36mConfig._file2dict\u001B[1;34m(filename, use_predefined_variables, use_environment_variables, lazy_import)\u001B[0m\n\u001B[0;32m    846\u001B[0m     \u001B[38;5;28;01mraise\u001B[39;00m \u001B[38;5;167;01mRuntimeError\u001B[39;00m(\n\u001B[0;32m    847\u001B[0m         \u001B[38;5;124m'\u001B[39m\u001B[38;5;124mThe configuration file type in the inheritance chain \u001B[39m\u001B[38;5;124m'\u001B[39m\n\u001B[0;32m    848\u001B[0m         \u001B[38;5;124m'\u001B[39m\u001B[38;5;124mmust match the current configuration file type, either \u001B[39m\u001B[38;5;124m'\u001B[39m\n\u001B[1;32m   (...)\u001B[0m\n\u001B[0;32m    852\u001B[0m         \u001B[38;5;124m'\u001B[39m\u001B[38;5;124minformation in https://mmengine.readthedocs.io/en/latest/advanced_tutorials/config.html\u001B[39m\u001B[38;5;124m'\u001B[39m  \u001B[38;5;66;03m# noqa: E501\u001B[39;00m\n\u001B[0;32m    853\u001B[0m     )\n\u001B[0;32m    855\u001B[0m filename \u001B[38;5;241m=\u001B[39m osp\u001B[38;5;241m.\u001B[39mabspath(osp\u001B[38;5;241m.\u001B[39mexpanduser(filename))\n\u001B[1;32m--> 856\u001B[0m \u001B[43mcheck_file_exist\u001B[49m\u001B[43m(\u001B[49m\u001B[43mfilename\u001B[49m\u001B[43m)\u001B[49m\n\u001B[0;32m    857\u001B[0m fileExtname \u001B[38;5;241m=\u001B[39m osp\u001B[38;5;241m.\u001B[39msplitext(filename)[\u001B[38;5;241m1\u001B[39m]\n\u001B[0;32m    858\u001B[0m \u001B[38;5;28;01mif\u001B[39;00m fileExtname \u001B[38;5;129;01mnot\u001B[39;00m \u001B[38;5;129;01min\u001B[39;00m [\u001B[38;5;124m'\u001B[39m\u001B[38;5;124m.py\u001B[39m\u001B[38;5;124m'\u001B[39m, \u001B[38;5;124m'\u001B[39m\u001B[38;5;124m.json\u001B[39m\u001B[38;5;124m'\u001B[39m, \u001B[38;5;124m'\u001B[39m\u001B[38;5;124m.yaml\u001B[39m\u001B[38;5;124m'\u001B[39m, \u001B[38;5;124m'\u001B[39m\u001B[38;5;124m.yml\u001B[39m\u001B[38;5;124m'\u001B[39m]:\n",
      "File \u001B[1;32mC:\\ProgramData\\anaconda3\\envs\\openmmlab_v04\\lib\\site-packages\\mmengine\\utils\\path.py:22\u001B[0m, in \u001B[0;36mcheck_file_exist\u001B[1;34m(filename, msg_tmpl)\u001B[0m\n\u001B[0;32m     21\u001B[0m \u001B[38;5;28;01mdef\u001B[39;00m \u001B[38;5;21mcheck_file_exist\u001B[39m(filename, msg_tmpl\u001B[38;5;241m=\u001B[39m\u001B[38;5;124m'\u001B[39m\u001B[38;5;124mfile \u001B[39m\u001B[38;5;124m\"\u001B[39m\u001B[38;5;132;01m{}\u001B[39;00m\u001B[38;5;124m\"\u001B[39m\u001B[38;5;124m does not exist\u001B[39m\u001B[38;5;124m'\u001B[39m):\n\u001B[1;32m---> 22\u001B[0m     \u001B[38;5;28;01mif\u001B[39;00m \u001B[38;5;129;01mnot\u001B[39;00m \u001B[43mosp\u001B[49m\u001B[38;5;241;43m.\u001B[39;49m\u001B[43misfile\u001B[49m\u001B[43m(\u001B[49m\u001B[43mfilename\u001B[49m\u001B[43m)\u001B[49m:\n\u001B[0;32m     23\u001B[0m         \u001B[38;5;28;01mraise\u001B[39;00m \u001B[38;5;167;01mFileNotFoundError\u001B[39;00m(msg_tmpl\u001B[38;5;241m.\u001B[39mformat(filename))\n",
      "File \u001B[1;32mC:\\ProgramData\\anaconda3\\envs\\openmmlab_v04\\lib\\genericpath.py:30\u001B[0m, in \u001B[0;36misfile\u001B[1;34m(path)\u001B[0m\n\u001B[0;32m     28\u001B[0m \u001B[38;5;250m\u001B[39m\u001B[38;5;124;03m\"\"\"Test whether a path is a regular file\"\"\"\u001B[39;00m\n\u001B[0;32m     29\u001B[0m \u001B[38;5;28;01mtry\u001B[39;00m:\n\u001B[1;32m---> 30\u001B[0m     st \u001B[38;5;241m=\u001B[39m \u001B[43mos\u001B[49m\u001B[38;5;241;43m.\u001B[39;49m\u001B[43mstat\u001B[49m\u001B[43m(\u001B[49m\u001B[43mpath\u001B[49m\u001B[43m)\u001B[49m\n\u001B[0;32m     31\u001B[0m \u001B[38;5;28;01mexcept\u001B[39;00m (\u001B[38;5;167;01mOSError\u001B[39;00m, \u001B[38;5;167;01mValueError\u001B[39;00m):\n\u001B[0;32m     32\u001B[0m     \u001B[38;5;28;01mreturn\u001B[39;00m \u001B[38;5;28;01mFalse\u001B[39;00m\n",
      "\u001B[1;31mKeyboardInterrupt\u001B[0m: "
     ]
    }
   ],
   "execution_count": 61
  },
  {
   "metadata": {
    "ExecuteTime": {
     "end_time": "2024-09-20T14:54:57.753095Z",
     "start_time": "2024-09-20T14:54:57.743585Z"
    }
   },
   "cell_type": "code",
   "source": [
    "tsn_most_voted_summary = [(\"salsa_basic_1\", tsn_most_voted_salsa_basic_1), (\"salsa_basic_2\", tsn_most_voted_salsa_basic_2), (\"non_salsa_basic_1\", tsn_most_voted_non_salsa_basic_1), (\"non_salsa_basic_2\", tsn_most_voted_non_salsa_basic_2), (\"non_salsa_basic_3\", tsn_most_voted_non_salsa_basic_3), (\"non_salsa_basic_4\", tsn_most_voted_non_salsa_basic_4), (\"non_salsa_basic_5\", tsn_most_voted_non_salsa_basic_5), (\"non_salsa_basic_6\", tsn_most_voted_non_salsa_basic_6)]\n",
    "\n",
    "# print each tuple in the list\n",
    "print(\"TSN CONFIGURATION SUMMARY\")\n",
    "for i in tsn_most_voted_summary:\n",
    "    print(i)"
   ],
   "id": "68fe860bbed20ac7",
   "outputs": [
    {
     "name": "stdout",
     "output_type": "stream",
     "text": [
      "TSN CONFIGURATION SUMMARY\n",
      "('salsa_basic_1', {'salsa_basic': 3, 'non_salsa_basic': 0})\n",
      "('salsa_basic_2', {'salsa_basic': 0, 'non_salsa_basic': 3})\n",
      "('non_salsa_basic_1', {'salsa_basic': 3, 'non_salsa_basic': 0})\n",
      "('non_salsa_basic_2', {'salsa_basic': 3, 'non_salsa_basic': 0})\n",
      "('non_salsa_basic_3', {'salsa_basic': 3, 'non_salsa_basic': 0})\n",
      "('non_salsa_basic_4', {'salsa_basic': 0, 'non_salsa_basic': 3})\n",
      "('non_salsa_basic_5', {'salsa_basic': 3, 'non_salsa_basic': 0})\n",
      "('non_salsa_basic_6', {'salsa_basic': 3, 'non_salsa_basic': 0})\n"
     ]
    }
   ],
   "execution_count": 55
  },
  {
   "metadata": {},
   "cell_type": "code",
   "source": [
    "tin_most_voted_salsa_basic_1 = basic_salsa_step_most_voted_inference(config_path_tin, checkpoint_path_tin, img_path_salsa_basic_1)\n",
    "tin_average_probability_salsa_basic_1 = basic_salsa_step_average_probability_for_inference(config_path_tin, checkpoint_path_tin, img_path_salsa_basic_1)\n",
    "tin_most_voted_salsa_basic_2 = basic_salsa_step_most_voted_inference(config_path_tin, checkpoint_path_tin, img_path_salsa_basic_2)\n",
    "tin_average_probability_salsa_basic_2 = basic_salsa_step_average_probability_for_inference(config_path_tin, checkpoint_path_tin, img_path_salsa_basic_2)\n",
    "\n",
    "tin_most_voted_non_salsa_basic_1 = basic_salsa_step_most_voted_inference(config_path_tin, checkpoint_path_tin, img_path_non_salsa_basic_1)\n",
    "tin_average_probability_non_salsa_basic_1 = basic_salsa_step_average_probability_for_inference(config_path_tin, checkpoint_path_tin, img_path_non_salsa_basic_1)\n",
    "\n",
    "tin_most_voted_non_salsa_basic_2 = basic_salsa_step_most_voted_inference(config_path_tin, checkpoint_path_tin, img_path_non_salsa_basic_2)\n",
    "tin_average_probability_non_salsa_basic_2 = basic_salsa_step_average_probability_for_inference(config_path_tin, checkpoint_path_tin, img_path_non_salsa_basic_2)\n",
    "\n",
    "tin_most_voted_non_salsa_basic_3 = basic_salsa_step_most_voted_inference(config_path_tin, checkpoint_path_tin, img_path_non_salsa_basic_3)\n",
    "tin_average_probability_non_salsa_basic_3 = basic_salsa_step_average_probability_for_inference(config_path_tin, checkpoint_path_tin, img_path_non_salsa_basic_3)\n",
    "\n",
    "tin_most_voted_non_salsa_basic_4 = basic_salsa_step_most_voted_inference(config_path_tin, checkpoint_path_tin, img_path_non_salsa_basic_4)\n",
    "tin_average_probability_non_salsa_basic_4 = basic_salsa_step_average_probability_for_inference(config_path_tin, checkpoint_path_tin, img_path_non_salsa_basic_4)\n",
    "\n",
    "tin_most_voted_non_salsa_basic_5 = basic_salsa_step_most_voted_inference(config_path_tin, checkpoint_path_tin, img_path_non_salsa_basic_5)\n",
    "tin_average_probability_non_salsa_basic_5 = basic_salsa_step_average_probability_for_inference(config_path_tin, checkpoint_path_tin, img_path_non_salsa_basic_5)\n",
    "\n",
    "tin_most_voted_non_salsa_basic_6 = basic_salsa_step_most_voted_inference(config_path_tin, checkpoint_path_tin, img_path_non_salsa_basic_6)\n",
    "tin_average_probability_non_salsa_basic_6 = basic_salsa_step_average_probability_for_inference(config_path_tin, checkpoint_path_tin, img_path_non_salsa_basic_6)"
   ],
   "id": "f4437ebbae6ffb05",
   "outputs": [],
   "execution_count": null
  },
  {
   "metadata": {
    "ExecuteTime": {
     "end_time": "2024-09-20T14:55:51.163067Z",
     "start_time": "2024-09-20T14:55:51.146559Z"
    }
   },
   "cell_type": "code",
   "source": [
    "tin_most_voted_summary = [(\"salsa_basic_1\", tin_most_voted_salsa_basic_1), (\"salsa_basic_2\", tin_most_voted_salsa_basic_2), (\"non_salsa_basic_1\", tin_most_voted_non_salsa_basic_1), (\"non_salsa_basic_2\", tin_most_voted_non_salsa_basic_2), (\"non_salsa_basic_3\", tin_most_voted_non_salsa_basic_3), (\"non_salsa_basic_4\", tin_most_voted_non_salsa_basic_4), (\"non_salsa_basic_5\", tin_most_voted_non_salsa_basic_5), (\"non_salsa_basic_6\", tin_most_voted_non_salsa_basic_6)]\n",
    "\n",
    "print(\"TIN CONFIGURATION SUMMARY\")\n",
    "# print each tuple in the list\n",
    "for i in tin_most_voted_summary:\n",
    "    print(i)"
   ],
   "id": "cd7732f81658c9f5",
   "outputs": [
    {
     "name": "stdout",
     "output_type": "stream",
     "text": [
      "TIN CONFIGURATION SUMMARY\n",
      "('salsa_basic_1', {'salsa_basic': 0, 'non_salsa_basic': 3})\n",
      "('salsa_basic_2', {'salsa_basic': 0, 'non_salsa_basic': 3})\n",
      "('non_salsa_basic_1', {'salsa_basic': 0, 'non_salsa_basic': 3})\n",
      "('non_salsa_basic_2', {'salsa_basic': 0, 'non_salsa_basic': 3})\n",
      "('non_salsa_basic_3', {'salsa_basic': 0, 'non_salsa_basic': 3})\n",
      "('non_salsa_basic_4', {'salsa_basic': 0, 'non_salsa_basic': 3})\n",
      "('non_salsa_basic_5', {'salsa_basic': 0, 'non_salsa_basic': 3})\n",
      "('non_salsa_basic_6', {'salsa_basic': 0, 'non_salsa_basic': 3})\n"
     ]
    }
   ],
   "execution_count": 58
  },
  {
   "metadata": {},
   "cell_type": "code",
   "source": [
    "i3d_most_voted_salsa_basic_1 = basic_salsa_step_most_voted_inference(config_path_i3d, checkpoint_path_i3d, img_path_salsa_basic_1)\n",
    "i3d_average_probability_salsa_basic_1 = basic_salsa_step_average_probability_for_inference(config_path_i3d, checkpoint_path_i3d, img_path_salsa_basic_1)\n",
    "\n",
    "i3d_most_voted_salsa_basic_2 = basic_salsa_step_most_voted_inference(config_path_i3d, checkpoint_path_i3d, img_path_salsa_basic_2)\n",
    "i3d_average_probability_salsa_basic_2 = basic_salsa_step_average_probability_for_inference(config_path_i3d, checkpoint_path_i3d, img_path_salsa_basic_2)\n",
    "\n",
    "i3d_most_voted_non_salsa_basic_1 = basic_salsa_step_most_voted_inference(config_path_i3d, checkpoint_path_i3d, img_path_non_salsa_basic_1)\n",
    "i3d_average_probability_non_salsa_basic_1 = basic_salsa_step_average_probability_for_inference(config_path_i3d, checkpoint_path_i3d, img_path_non_salsa_basic_1)\n",
    "\n",
    "i3d_most_voted_non_salsa_basic_2 = basic_salsa_step_most_voted_inference(config_path_i3d, checkpoint_path_i3d, img_path_non_salsa_basic_2)\n",
    "i3d_average_probability_non_salsa_basic_2 = basic_salsa_step_average_probability_for_inference(config_path_i3d, checkpoint_path_i3d, img_path_non_salsa_basic_2)\n",
    "\n",
    "i3d_most_voted_non_salsa_basic_3 = basic_salsa_step_most_voted_inference(config_path_i3d, checkpoint_path_i3d, img_path_non_salsa_basic_3)\n",
    "i3d_average_probability_non_salsa_basic_3 = basic_salsa_step_average_probability_for_inference(config_path_i3d, checkpoint_path_i3d, img_path_non_salsa_basic_3)\n",
    "\n",
    "i3d_most_voted_non_salsa_basic_4 = basic_salsa_step_most_voted_inference(config_path_i3d, checkpoint_path_i3d, img_path_non_salsa_basic_4)\n",
    "i3d_average_probability_non_salsa_basic_4 = basic_salsa_step_average_probability_for_inference(config_path_i3d, checkpoint_path_i3d, img_path_non_salsa_basic_4)\n",
    "\n",
    "i3d_most_voted_non_salsa_basic_5 = basic_salsa_step_most_voted_inference(config_path_i3d, checkpoint_path_i3d, img_path_non_salsa_basic_5)\n",
    "i3d_average_probability_non_salsa_basic_5 = basic_salsa_step_average_probability_for_inference(config_path_i3d, checkpoint_path_i3d, img_path_non_salsa_basic_5)\n",
    "\n",
    "i3d_most_voted_non_salsa_basic_6 = basic_salsa_step_most_voted_inference(config_path_i3d, checkpoint_path_i3d, img_path_non_salsa_basic_6)\n",
    "i3d_average_probability_non_salsa_basic_6 = basic_salsa_step_average_probability_for_inference(config_path_i3d, checkpoint_path_i3d, img_path_non_salsa_basic_6)"
   ],
   "id": "218f570b93cf1ca8",
   "outputs": [],
   "execution_count": null
  },
  {
   "metadata": {
    "ExecuteTime": {
     "end_time": "2024-09-20T14:55:29.529941Z",
     "start_time": "2024-09-20T14:55:29.519437Z"
    }
   },
   "cell_type": "code",
   "source": [
    "i3d_most_voted_summary = [(\"salsa_basic_1\", i3d_most_voted_salsa_basic_1), (\"salsa_basic_2\", i3d_most_voted_salsa_basic_2), (\"non_salsa_basic_1\", i3d_most_voted_non_salsa_basic_1), (\"non_salsa_basic_2\", i3d_most_voted_non_salsa_basic_2), (\"non_salsa_basic_3\", i3d_most_voted_non_salsa_basic_3), (\"non_salsa_basic_4\", i3d_most_voted_non_salsa_basic_4), (\"non_salsa_basic_5\", i3d_most_voted_non_salsa_basic_5), (\"non_salsa_basic_6\", i3d_most_voted_non_salsa_basic_6)]\n",
    "\n",
    "print(\"I3D CONFIGURATION SUMMARY\")\n",
    "# print each tuple in the list\n",
    "for i in i3d_most_voted_summary:\n",
    "    print(i)"
   ],
   "id": "2c5a001921143791",
   "outputs": [
    {
     "name": "stdout",
     "output_type": "stream",
     "text": [
      "I3D CONFIGURATION SUMMARY\n",
      "('salsa_basic_1', {'salsa_basic': 0, 'non_salsa_basic': 3})\n",
      "('salsa_basic_2', {'salsa_basic': 0, 'non_salsa_basic': 3})\n",
      "('non_salsa_basic_1', {'salsa_basic': 0, 'non_salsa_basic': 3})\n",
      "('non_salsa_basic_2', {'salsa_basic': 0, 'non_salsa_basic': 3})\n",
      "('non_salsa_basic_3', {'salsa_basic': 0, 'non_salsa_basic': 3})\n",
      "('non_salsa_basic_4', {'salsa_basic': 3, 'non_salsa_basic': 0})\n",
      "('non_salsa_basic_5', {'salsa_basic': 0, 'non_salsa_basic': 3})\n",
      "('non_salsa_basic_6', {'salsa_basic': 0, 'non_salsa_basic': 3})\n"
     ]
    }
   ],
   "execution_count": 57
  },
  {
   "metadata": {},
   "cell_type": "code",
   "source": [
    "slowfast_most_voted_salsa_basic_1 = basic_salsa_step_most_voted_inference(config_path_slowfast, checkpoint_path_slowfast, img_path_salsa_basic_1)\n",
    "slowfast_average_probability_salsa_basic_1 = basic_salsa_step_average_probability_for_inference(config_path_slowfast, checkpoint_path_slowfast, img_path_salsa_basic_1)\n",
    "\n",
    "slowfast_most_voted_salsa_basic_2 = basic_salsa_step_most_voted_inference(config_path_slowfast, checkpoint_path_slowfast, img_path_salsa_basic_2)\n",
    "slowfast_average_probability_salsa_basic_2 = basic_salsa_step_average_probability_for_inference(config_path_slowfast, checkpoint_path_slowfast, img_path_salsa_basic_2)\n",
    "\n",
    "slowfast_most_voted_non_salsa_basic_1 = basic_salsa_step_most_voted_inference(config_path_slowfast, checkpoint_path_slowfast, img_path_non_salsa_basic_1)\n",
    "slowfast_average_probability_non_salsa_basic_1 = basic_salsa_step_average_probability_for_inference(config_path_slowfast, checkpoint_path_slowfast, img_path_non_salsa_basic_1)\n",
    "\n",
    "slowfast_most_voted_non_salsa_basic_2 = basic_salsa_step_most_voted_inference(config_path_slowfast, checkpoint_path_slowfast, img_path_non_salsa_basic_2)\n",
    "slowfast_average_probability_non_salsa_basic_2 = basic_salsa_step_average_probability_for_inference(config_path_slowfast, checkpoint_path_slowfast, img_path_non_salsa_basic_2)\n",
    "\n",
    "slowfast_most_voted_non_salsa_basic_3 = basic_salsa_step_most_voted_inference(config_path_slowfast, checkpoint_path_slowfast, img_path_non_salsa_basic_3)\n",
    "slowfast_average_probability_non_salsa_basic_3 = basic_salsa_step_average_probability_for_inference(config_path_slowfast, checkpoint_path_slowfast, img_path_non_salsa_basic_3)\n",
    "\n",
    "slowfast_most_voted_non_salsa_basic_4 = basic_salsa_step_most_voted_inference(config_path_slowfast, checkpoint_path_slowfast, img_path_non_salsa_basic_4)\n",
    "slowfast_average_probability_non_salsa_basic_4 = basic_salsa_step_average_probability_for_inference(config_path_slowfast, checkpoint_path_slowfast, img_path_non_salsa_basic_4)\n",
    "\n",
    "slowfast_most_voted_non_salsa_basic_5 = basic_salsa_step_most_voted_inference(config_path_slowfast, checkpoint_path_slowfast, img_path_non_salsa_basic_5)\n",
    "slowfast_average_probability_non_salsa_basic_5 = basic_salsa_step_average_probability_for_inference(config_path_slowfast, checkpoint_path_slowfast, img_path_non_salsa_basic_5)\n",
    "\n",
    "slowfast_most_voted_non_salsa_basic_6 = basic_salsa_step_most_voted_inference(config_path_slowfast, checkpoint_path_slowfast, img_path_non_salsa_basic_6)\n",
    "slowfast_average_probability_non_salsa_basic_6 = basic_salsa_step_average_probability_for_inference(config_path_slowfast, checkpoint_path_slowfast, img_path_non_salsa_basic_6)"
   ],
   "id": "f45d232760db8ae4",
   "outputs": [],
   "execution_count": null
  },
  {
   "metadata": {
    "ExecuteTime": {
     "end_time": "2024-09-20T14:56:22.118664Z",
     "start_time": "2024-09-20T14:56:22.099653Z"
    }
   },
   "cell_type": "code",
   "source": [
    "slowfast_most_voted_summary = [(\"salsa_basic_1\", slowfast_most_voted_salsa_basic_1), (\"salsa_basic_2\", slowfast_most_voted_salsa_basic_2), (\"non_salsa_basic_1\", slowfast_most_voted_non_salsa_basic_1), (\"non_salsa_basic_2\", slowfast_most_voted_non_salsa_basic_2), (\"non_salsa_basic_3\", slowfast_most_voted_non_salsa_basic_3), (\"non_salsa_basic_4\", slowfast_most_voted_non_salsa_basic_4), (\"non_salsa_basic_5\", slowfast_most_voted_non_salsa_basic_5), (\"non_salsa_basic_6\", slowfast_most_voted_non_salsa_basic_6)]\n",
    "\n",
    "\n",
    "print(\"SLOWFAST CONFIGURATION SUMMARY\")\n",
    "# print each tuple in the list\n",
    "for i in slowfast_most_voted_summary:\n",
    "    print(i)"
   ],
   "id": "a1b31381c2c20392",
   "outputs": [
    {
     "name": "stdout",
     "output_type": "stream",
     "text": [
      "SLOWFAST CONFIGURATION SUMMARY\n",
      "('salsa_basic_1', {'salsa_basic': 3, 'non_salsa_basic': 0})\n",
      "('salsa_basic_2', {'salsa_basic': 0, 'non_salsa_basic': 3})\n",
      "('non_salsa_basic_1', {'salsa_basic': 0, 'non_salsa_basic': 3})\n",
      "('non_salsa_basic_2', {'salsa_basic': 0, 'non_salsa_basic': 3})\n",
      "('non_salsa_basic_3', {'salsa_basic': 0, 'non_salsa_basic': 3})\n",
      "('non_salsa_basic_4', {'salsa_basic': 0, 'non_salsa_basic': 3})\n",
      "('non_salsa_basic_5', {'salsa_basic': 3, 'non_salsa_basic': 0})\n",
      "('non_salsa_basic_6', {'salsa_basic': 3, 'non_salsa_basic': 0})\n"
     ]
    }
   ],
   "execution_count": 59
  },
  {
   "metadata": {},
   "cell_type": "code",
   "source": "",
   "id": "603f3bb1945be3e5",
   "outputs": [],
   "execution_count": null
  },
  {
   "metadata": {},
   "cell_type": "code",
   "source": "",
   "id": "6d8469042b83ed8e",
   "outputs": [],
   "execution_count": null
  },
  {
   "metadata": {
    "ExecuteTime": {
     "end_time": "2024-09-20T15:08:14.778761Z",
     "start_time": "2024-09-20T15:08:14.693763Z"
    }
   },
   "cell_type": "code",
   "source": "!nvcc -V",
   "id": "5f23f035c77f38f0",
   "outputs": [
    {
     "name": "stdout",
     "output_type": "stream",
     "text": [
      "nvcc: NVIDIA (R) Cuda compiler driver\n",
      "Copyright (c) 2005-2022 NVIDIA Corporation\n",
      "Built on Wed_Sep_21_10:41:10_Pacific_Daylight_Time_2022\n",
      "Cuda compilation tools, release 11.8, V11.8.89\n",
      "Build cuda_11.8.r11.8/compiler.31833905_0\n"
     ]
    }
   ],
   "execution_count": 62
  },
  {
   "metadata": {
    "ExecuteTime": {
     "end_time": "2024-09-20T15:08:52.982676Z",
     "start_time": "2024-09-20T15:08:52.934677Z"
    }
   },
   "cell_type": "code",
   "source": "!gcc -V",
   "id": "d8574e361ddcc47e",
   "outputs": [
    {
     "name": "stderr",
     "output_type": "stream",
     "text": [
      "'gcc' is not recognized as an internal or external command,\n",
      "operable program or batch file.\n"
     ]
    }
   ],
   "execution_count": 65
  },
  {
   "metadata": {
    "ExecuteTime": {
     "end_time": "2024-09-20T15:08:37.059160Z",
     "start_time": "2024-09-20T15:08:36.876160Z"
    }
   },
   "cell_type": "code",
   "source": "!nvidia-smi",
   "id": "814fa2612e717dd4",
   "outputs": [
    {
     "name": "stdout",
     "output_type": "stream",
     "text": [
      "Fri Sep 20 10:08:36 2024       \n",
      "+-----------------------------------------------------------------------------------------+\n",
      "| NVIDIA-SMI 560.81                 Driver Version: 560.81         CUDA Version: 12.6     |\n",
      "|-----------------------------------------+------------------------+----------------------+\n",
      "| GPU  Name                  Driver-Model | Bus-Id          Disp.A | Volatile Uncorr. ECC |\n",
      "| Fan  Temp   Perf          Pwr:Usage/Cap |           Memory-Usage | GPU-Util  Compute M. |\n",
      "|                                         |                        |               MIG M. |\n",
      "|=========================================+========================+======================|\n",
      "|   0  NVIDIA GeForce RTX 4070 ...  WDDM  |   00000000:01:00.0  On |                  N/A |\n",
      "|  0%   32C    P8             10W /  285W |    9136MiB /  16376MiB |      1%      Default |\n",
      "|                                         |                        |                  N/A |\n",
      "+-----------------------------------------+------------------------+----------------------+\n",
      "                                                                                         \n",
      "+-----------------------------------------------------------------------------------------+\n",
      "| Processes:                                                                              |\n",
      "|  GPU   GI   CI        PID   Type   Process name                              GPU Memory |\n",
      "|        ID   ID                                                               Usage      |\n",
      "|=========================================================================================|\n",
      "|    0   N/A  N/A      1036    C+G   ...inaries\\Win64\\EpicGamesLauncher.exe      N/A      |\n",
      "|    0   N/A  N/A      2684    C+G   ...on\\128.0.2739.79\\msedgewebview2.exe      N/A      |\n",
      "|    0   N/A  N/A      4404    C+G   ...siveControlPanel\\SystemSettings.exe      N/A      |\n",
      "|    0   N/A  N/A      5720    C+G   ...oogle\\Chrome\\Application\\chrome.exe      N/A      |\n",
      "|    0   N/A  N/A      8488    C+G   C:\\Windows\\explorer.exe                     N/A      |\n",
      "|    0   N/A  N/A     10784    C+G   ...GeForce Experience\\NVIDIA Share.exe      N/A      |\n",
      "|    0   N/A  N/A     10964    C+G   ...nt.CBS_cw5n1h2txyewy\\SearchHost.exe      N/A      |\n",
      "|    0   N/A  N/A     10988    C+G   ...2txyewy\\StartMenuExperienceHost.exe      N/A      |\n",
      "|    0   N/A  N/A     11056      C   ...onda3\\envs\\openmmlab_v04\\python.exe      N/A      |\n",
      "|    0   N/A  N/A     12028    C+G   ...5n1h2txyewy\\ShellExperienceHost.exe      N/A      |\n",
      "|    0   N/A  N/A     12508    C+G   ...CBS_cw5n1h2txyewy\\TextInputHost.exe      N/A      |\n",
      "|    0   N/A  N/A     12628    C+G   ...cal\\Microsoft\\OneDrive\\OneDrive.exe      N/A      |\n",
      "|    0   N/A  N/A     13916      C   ...onda3\\envs\\openmmlab_v04\\python.exe      N/A      |\n",
      "|    0   N/A  N/A     14068    C+G   ...ns\\PyCharm 2024.2\\bin\\pycharm64.exe      N/A      |\n",
      "|    0   N/A  N/A     14788    C+G   ...GeForce Experience\\NVIDIA Share.exe      N/A      |\n",
      "|    0   N/A  N/A     14904    C+G   ...ekyb3d8bbwe\\PhoneExperienceHost.exe      N/A      |\n",
      "|    0   N/A  N/A     19000    C+G   ...oogle\\Chrome\\Application\\chrome.exe      N/A      |\n",
      "|    0   N/A  N/A     19704    C+G   ...ncher\\NVIDIA Omniverse Launcher.exe      N/A      |\n",
      "|    0   N/A  N/A     20564    C+G   ...ne\\Binaries\\Win64\\EpicWebHelper.exe      N/A      |\n",
      "|    0   N/A  N/A     21240    C+G   ....0_x64__kzh8wxbdkxb8p\\DCv2\\DCv2.exe      N/A      |\n",
      "|    0   N/A  N/A     21360    C+G   ...1.0_x64__8wekyb3d8bbwe\\Video.UI.exe      N/A      |\n",
      "|    0   N/A  N/A     21596    C+G   ...on\\128.0.2739.79\\msedgewebview2.exe      N/A      |\n",
      "|    0   N/A  N/A     31896    C+G   ...crosoft\\Edge\\Application\\msedge.exe      N/A      |\n",
      "|    0   N/A  N/A     34684    C+G   ...t.LockApp_cw5n1h2txyewy\\LockApp.exe      N/A      |\n",
      "+-----------------------------------------------------------------------------------------+\n"
     ]
    }
   ],
   "execution_count": 64
  },
  {
   "metadata": {
    "ExecuteTime": {
     "end_time": "2024-09-20T15:17:03.578353Z",
     "start_time": "2024-09-20T15:17:03.528354Z"
    }
   },
   "cell_type": "code",
   "source": [
    "# Check Pytorch installation\n",
    "import torch, torchvision\n",
    "print(\"Torch version is: \"+torch.__version__, \"Is cuda device available? \"+str(torch.cuda.is_available()))\n",
    "\n",
    "# Check MMAction2 installation\n",
    "import mmaction\n",
    "print(\"mmaction version is: \"+mmaction.__version__)\n",
    "\n",
    "# Check MMCV installation\n",
    "from mmcv.ops import get_compiling_cuda_version, get_compiler_version\n",
    "print(\"MMCV version is: \"+str(get_compiling_cuda_version()))\n",
    "print(get_compiler_version())\n",
    "\n",
    "# Check cuda version\n",
    "!nvcc -V\n",
    "\n",
    "# Check MMEngine installation\n",
    "# from mmengine.utils.dl_utils import collect_env\n",
    "# print(collect_env())"
   ],
   "id": "db2ad0c088f2c798",
   "outputs": [
    {
     "name": "stdout",
     "output_type": "stream",
     "text": [
      "Torch version is: 2.0.1 Is cuda device available? True\n",
      "mmaction version is: 1.2.0\n",
      "MMCV version is: 11.8\n",
      "MSVC 192829924\n",
      "nvcc: NVIDIA (R) Cuda compiler driver\n",
      "Copyright (c) 2005-2022 NVIDIA Corporation\n",
      "Built on Wed_Sep_21_10:41:10_Pacific_Daylight_Time_2022\n",
      "Cuda compilation tools, release 11.8, V11.8.89\n",
      "Build cuda_11.8.r11.8/compiler.31833905_0\n"
     ]
    }
   ],
   "execution_count": 71
  },
  {
   "metadata": {},
   "cell_type": "code",
   "outputs": [],
   "execution_count": null,
   "source": "",
   "id": "961dd19c18006cf7"
  }
 ],
 "metadata": {
  "kernelspec": {
   "display_name": "Python (openmmlab_v04)",
   "language": "python",
   "name": "openmmlab_v04"
  },
  "language_info": {
   "codemirror_mode": {
    "name": "ipython",
    "version": 2
   },
   "file_extension": ".py",
   "mimetype": "text/x-python",
   "name": "python",
   "nbconvert_exporter": "python",
   "pygments_lexer": "ipython2",
   "version": "2.7.6"
  }
 },
 "nbformat": 4,
 "nbformat_minor": 5
}
