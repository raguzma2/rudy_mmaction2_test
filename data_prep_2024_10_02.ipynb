{
 "cells": [
  {
   "cell_type": "code",
   "id": "initial_id",
   "metadata": {
    "collapsed": true,
    "ExecuteTime": {
     "end_time": "2024-10-03T04:23:20.847688Z",
     "start_time": "2024-10-03T04:23:20.839262Z"
    }
   },
   "source": "print(\"hello\")",
   "outputs": [
    {
     "name": "stdout",
     "output_type": "stream",
     "text": [
      "hello\n"
     ]
    }
   ],
   "execution_count": 1
  },
  {
   "metadata": {
    "ExecuteTime": {
     "end_time": "2024-10-03T04:35:44.085616Z",
     "start_time": "2024-10-03T04:35:43.017765Z"
    }
   },
   "cell_type": "code",
   "source": [
    "import os\n",
    "import random\n",
    "import shutil\n",
    "\n",
    "# Define paths\n",
    "path_1 = r\"C:\\Users\\rodol\\Desktop\\multi_camera_renders\\mens_basic_step\"     # Replace with the actual path to basic_step files\n",
    "path_0 = r\"C:\\Users\\rodol\\Desktop\\multi_camera_renders\\mens_right_turn\"   # Replace with the actual path to non_basic_step files\n",
    "path_training_folder = r\"C:\\Users\\rodol\\Desktop\\basic_salsa_step_data\\Computer_vision_model\\train\"       # Replace with the actual training folder path\n",
    "path_validation_folder = r\"C:\\Users\\rodol\\Desktop\\basic_salsa_step_data\\Computer_vision_model\\val\"   # Replace with the actual validation folder path\n",
    "\n",
    "# Output text files\n",
    "training_text_file = r\"C:\\Users\\rodol\\Desktop\\basic_salsa_step_data\\Computer_vision_model\\train_video.txt\"            # Replace with the desired training text file path\n",
    "validation_text_file = r\"C:\\Users\\rodol\\Desktop\\basic_salsa_step_data\\Computer_vision_model\\val_video.txt\"        # Replace with the desired validation text file path\n",
    "basic_step_text_file = r\"C:\\Users\\rodol\\Desktop\\basic_salsa_step_data\\Computer_vision_model\\basic_step_files.txt\"  # Replace with the desired basic_step text file path\n",
    "\n",
    "# Ensure output directories exist\n",
    "os.makedirs(path_training_folder, exist_ok=True)\n",
    "os.makedirs(path_validation_folder, exist_ok=True)\n",
    "\n",
    "# Get list of files\n",
    "basic_step_files = [f for f in os.listdir(path_1) if f.endswith('.mp4')]\n",
    "non_basic_step_files = [f for f in os.listdir(path_0) if f.endswith('.mp4')]\n",
    "\n",
    "# Create basic_step_files.txt\n",
    "with open(basic_step_text_file, 'w') as f:\n",
    "    for file_name in basic_step_files:\n",
    "        f.write(f\"{file_name} 1\\n\")\n",
    "\n",
    "# Shuffle files\n",
    "random.shuffle(basic_step_files)\n",
    "random.shuffle(non_basic_step_files)\n",
    "\n",
    "# Calculate split indices\n",
    "num_basic_total = len(basic_step_files)\n",
    "num_non_basic_total = len(non_basic_step_files)\n",
    "\n",
    "num_basic_train = int(0.8 * num_basic_total)\n",
    "num_basic_val = int(0.2 * num_basic_total)\n",
    "\n",
    "num_non_basic_train = int(0.8 * num_non_basic_total)\n",
    "num_non_basic_val = int(0.2 * num_non_basic_total)\n",
    "\n",
    "# Split files into training and validation\n",
    "basic_train_files = basic_step_files[:num_basic_train]\n",
    "basic_val_files = basic_step_files[num_basic_train:num_basic_train+num_basic_val]\n",
    "\n",
    "non_basic_train_files = non_basic_step_files[:num_non_basic_train]\n",
    "non_basic_val_files = non_basic_step_files[num_non_basic_train:num_non_basic_train+num_non_basic_val]\n",
    "\n",
    "# Prepare training data\n",
    "training_data = [(f, 1) for f in basic_train_files] + [(f, 0) for f in non_basic_train_files]\n",
    "random.shuffle(training_data)\n",
    "\n",
    "# Prepare validation data\n",
    "validation_data = [(f, 1) for f in basic_val_files] + [(f, 0) for f in non_basic_val_files]\n",
    "random.shuffle(validation_data)\n",
    "\n",
    "# Write training text file\n",
    "with open(training_text_file, 'w') as f:\n",
    "    for file_name, label in training_data:\n",
    "        f.write(f\"{file_name} {label}\\n\")\n",
    "\n",
    "# Write validation text file\n",
    "with open(validation_text_file, 'w') as f:\n",
    "    for file_name, label in validation_data:\n",
    "        f.write(f\"{file_name} {label}\\n\")\n",
    "\n",
    "# Move training files\n",
    "for file_name in basic_train_files:\n",
    "    shutil.move(os.path.join(path_1, file_name), os.path.join(path_training_folder, file_name))\n",
    "for file_name in non_basic_train_files:\n",
    "    shutil.move(os.path.join(path_0, file_name), os.path.join(path_training_folder, file_name))\n",
    "\n",
    "# Move validation files\n",
    "for file_name in basic_val_files:\n",
    "    shutil.move(os.path.join(path_1, file_name), os.path.join(path_validation_folder, file_name))\n",
    "for file_name in non_basic_val_files:\n",
    "    shutil.move(os.path.join(path_0, file_name), os.path.join(path_validation_folder, file_name))\n"
   ],
   "id": "18e5da68dd3572cc",
   "outputs": [],
   "execution_count": 2
  },
  {
   "metadata": {},
   "cell_type": "code",
   "outputs": [],
   "execution_count": null,
   "source": "",
   "id": "ff2c73535b815a28"
  }
 ],
 "metadata": {
  "kernelspec": {
   "display_name": "Python 3",
   "language": "python",
   "name": "python3"
  },
  "language_info": {
   "codemirror_mode": {
    "name": "ipython",
    "version": 2
   },
   "file_extension": ".py",
   "mimetype": "text/x-python",
   "name": "python",
   "nbconvert_exporter": "python",
   "pygments_lexer": "ipython2",
   "version": "2.7.6"
  }
 },
 "nbformat": 4,
 "nbformat_minor": 5
}
